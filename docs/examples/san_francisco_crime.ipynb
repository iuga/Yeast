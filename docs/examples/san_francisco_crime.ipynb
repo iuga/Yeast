{
 "cells": [
  {
   "cell_type": "markdown",
   "metadata": {},
   "source": [
    "# San Fanciscon Crime\n",
    "\n",
    "## Motivation\n",
    "\n",
    "From 1934 to 1963, San Francisco was infamous for housing some of the world's most notorious criminals on the inescapable island of Alcatraz. Today, the city is known more for its tech scene than its criminal past. But, with rising wealth inequality, housing shortages, and a proliferation of expensive digital toys riding BART to work, there is no scarcity of crime in the city by the bay.\n",
    "\n",
    "### Overview\n",
    "\n",
    "From Sunset to SOMA, and Marina to Excelsior, this dataset provides nearly 12 years of crime reports from across all of San Francisco's neighborhoods. Given time and location, you must predict the category of crime that occurred.\n",
    "\n",
    "### Approach\n",
    "\n",
    "We will apply a full Data Science life cycle composed of the following steps:\n",
    "\n",
    "- Data Wrangling to perform all the necessary actions to clean the dataset.\n",
    "- Data Exploration for understanding the variables and create intuition on the data.\n",
    "- Feature Engineering to create additional variables from the existing.\n",
    "- Data Normalization and Data Transformation for preparing the dataset for the learning algorithms.\n",
    "- Training / Testing data creation to evaluate the performance of our model.\n"
   ]
  },
  {
   "cell_type": "markdown",
   "metadata": {},
   "source": [
    "## Data Wrangling"
   ]
  },
  {
   "cell_type": "markdown",
   "metadata": {},
   "source": [
    "### Loading the data"
   ]
  },
  {
   "cell_type": "code",
   "execution_count": null,
   "metadata": {},
   "outputs": [],
   "source": [
    "# Core imports\n",
    "import pandas as pd\n",
    "import numpy as np\n",
    "\n",
    "# Yeast imports\n",
    "from yeast import Recipe\n",
    "from yeast.steps import *\n",
    "from yeast.transformers import *"
   ]
  },
  {
   "cell_type": "code",
   "execution_count": null,
   "metadata": {},
   "outputs": [],
   "source": [
    "train = pd.read_csv('sf_train.csv')\n",
    "test = pd.read_csv('sf_test.csv')"
   ]
  },
  {
   "cell_type": "code",
   "execution_count": null,
   "metadata": {
    "scrolled": true
   },
   "outputs": [],
   "source": [
    "train.head(n=2)\n",
    "train.shape"
   ]
  },
  {
   "cell_type": "markdown",
   "metadata": {},
   "source": [
    "### The cleaning recipe"
   ]
  },
  {
   "cell_type": "code",
   "execution_count": null,
   "metadata": {},
   "outputs": [],
   "source": [
    "recipe = Recipe([\n",
    "    # This dataset contains 2323 duplicates that we should remove\n",
    "    DropDuplicateRowsStep(),\n",
    "    # Some Geolocation points are missplaced\n",
    "    # We will replace the outlying coordinates with the average coordinates\n",
    "    MutateStep({\n",
    "        'X': MapValues({-120.5: np.NaN}),\n",
    "        'Y': MapValues({90: np.NaN})\n",
    "    }),\n",
    "    MeanImputeStep(['X', 'Y'])\n",
    "]).prepare(train)"
   ]
  },
  {
   "cell_type": "code",
   "execution_count": null,
   "metadata": {},
   "outputs": [],
   "source": [
    "baked_train = recipe.bake(train)\n",
    "baked_test = recipe.bake(test)\n",
    "baked_train.head()"
   ]
  },
  {
   "cell_type": "markdown",
   "metadata": {},
   "source": [
    "## Links & Resources\n",
    "\n",
    "- [SF-Crime Analysis & Prediction by @yannisp](https://www.kaggle.com/yannisp/sf-crime-analysis-prediction)"
   ]
  }
 ],
 "metadata": {
  "kernelspec": {
   "display_name": "Python 3",
   "language": "python",
   "name": "python3"
  },
  "language_info": {
   "codemirror_mode": {
    "name": "ipython",
    "version": 3
   },
   "file_extension": ".py",
   "mimetype": "text/x-python",
   "name": "python",
   "nbconvert_exporter": "python",
   "pygments_lexer": "ipython3",
   "version": "3.7.7"
  }
 },
 "nbformat": 4,
 "nbformat_minor": 4
}
