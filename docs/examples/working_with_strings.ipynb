{
 "cells": [
  {
   "cell_type": "markdown",
   "metadata": {},
   "source": [
    "# Working With Strings\n",
    "\n",
    "The following dataset contains users and codes. It's a real use case example of a Data Science project I worked with when having tools to work with strings is fundamental. The idea is simple, you have a list of users with a code. The code have different meanings because each letter in each position represents something different. For this example we are going to focus in one explanation, the program name. The rules:\n",
    "\n",
    "- The code should always have 5 letters, by default `N`\n",
    "- If the first letter is `A` (account) then the third letter contains the Program name.\n",
    "- The Program names are: `G` Gold, `P` Platinum, and `B` Black.\n",
    "\n",
    "Let's answer the most basic question: How many accounts per type do they have?"
   ]
  },
  {
   "cell_type": "markdown",
   "metadata": {},
   "source": [
    "## Importing the Libraries"
   ]
  },
  {
   "cell_type": "code",
   "execution_count": 1,
   "metadata": {},
   "outputs": [],
   "source": [
    "# General Libraries\n",
    "import pandas as pd"
   ]
  },
  {
   "cell_type": "code",
   "execution_count": 2,
   "metadata": {},
   "outputs": [],
   "source": [
    "# Yeast specifics classes\n",
    "from yeast import Recipe\n",
    "from yeast.steps import *\n",
    "from yeast.transformers import *\n",
    "from yeast.aggregations import *"
   ]
  },
  {
   "cell_type": "markdown",
   "metadata": {},
   "source": [
    "## Getting the Data"
   ]
  },
  {
   "cell_type": "code",
   "execution_count": 3,
   "metadata": {},
   "outputs": [
    {
     "data": {
      "text/html": [
       "<div>\n",
       "<style scoped>\n",
       "    .dataframe tbody tr th:only-of-type {\n",
       "        vertical-align: middle;\n",
       "    }\n",
       "\n",
       "    .dataframe tbody tr th {\n",
       "        vertical-align: top;\n",
       "    }\n",
       "\n",
       "    .dataframe thead th {\n",
       "        text-align: right;\n",
       "    }\n",
       "</style>\n",
       "<table border=\"1\" class=\"dataframe\">\n",
       "  <thead>\n",
       "    <tr style=\"text-align: right;\">\n",
       "      <th></th>\n",
       "      <th>user</th>\n",
       "      <th>code</th>\n",
       "    </tr>\n",
       "  </thead>\n",
       "  <tbody>\n",
       "    <tr>\n",
       "      <th>0</th>\n",
       "      <td>0</td>\n",
       "      <td>NNNNN</td>\n",
       "    </tr>\n",
       "    <tr>\n",
       "      <th>1</th>\n",
       "      <td>1</td>\n",
       "      <td>NaN</td>\n",
       "    </tr>\n",
       "    <tr>\n",
       "      <th>2</th>\n",
       "      <td>2</td>\n",
       "      <td>ANPNN</td>\n",
       "    </tr>\n",
       "    <tr>\n",
       "      <th>3</th>\n",
       "      <td>3</td>\n",
       "      <td>A B</td>\n",
       "    </tr>\n",
       "    <tr>\n",
       "      <th>4</th>\n",
       "      <td>4</td>\n",
       "      <td>ANPNN</td>\n",
       "    </tr>\n",
       "  </tbody>\n",
       "</table>\n",
       "</div>"
      ],
      "text/plain": [
       "   user    code\n",
       "0     0   NNNNN\n",
       "1     1     NaN\n",
       "2     2   ANPNN\n",
       "3     3     A B\n",
       "4     4   ANPNN"
      ]
     },
     "execution_count": 3,
     "metadata": {},
     "output_type": "execute_result"
    }
   ],
   "source": [
    "codes = pd.read_csv('string_codes.csv')\n",
    "codes.head()"
   ]
  },
  {
   "cell_type": "markdown",
   "metadata": {},
   "source": [
    "## Cleaning the Data\n",
    "### Defining the processing Recipe"
   ]
  },
  {
   "cell_type": "code",
   "execution_count": 9,
   "metadata": {},
   "outputs": [],
   "source": [
    "recipe = Recipe([\n",
    "    # Trap: the column \"code\" on the csv is \"  code\"\n",
    "    # Cleaning the column names should fix this\n",
    "    CleanColumnNamesStep('snake'),\n",
    "    # Replace the missing values by 'NNNNN' (no code)\n",
    "    ReplaceNAStep('code', 'NNNNN'),\n",
    "    # Let's clean the Code according to the business rules:\n",
    "    MutateStep({\n",
    "        # Transform the \"name\" column\n",
    "        'code': [\n",
    "            # No whitespace to the left or right of the string\n",
    "            StrTrim(),\n",
    "            # The code must have 5 characters, 'N' if no information\n",
    "            StrPad(5, side='right', pad='N'),\n",
    "            # Whitespaces are also coded as 'N',\n",
    "            StrReplaceAll(' ', 'N')\n",
    "        ],\n",
    "        # Extract the first letter of the code (Account)\n",
    "        'code_account': StrSlice(0, 1, column='code'),\n",
    "        # Extract the third letter of the code (Account Type) if Account == 'A'\n",
    "        'code_type': StrSlice(2, 3, column='code'),\n",
    "        # Map the codes to the correct promotion name\n",
    "        'program_name': MapValues({\n",
    "            'G': 'Gold',\n",
    "            'P': 'Platinum',\n",
    "            'B': 'Black'\n",
    "        }, column='code_type')\n",
    "    })\n",
    "])"
   ]
  },
  {
   "cell_type": "code",
   "execution_count": 10,
   "metadata": {},
   "outputs": [],
   "source": [
    "recipe = recipe.prepare(codes)"
   ]
  },
  {
   "cell_type": "code",
   "execution_count": 11,
   "metadata": {},
   "outputs": [
    {
     "data": {
      "text/html": [
       "<div>\n",
       "<style scoped>\n",
       "    .dataframe tbody tr th:only-of-type {\n",
       "        vertical-align: middle;\n",
       "    }\n",
       "\n",
       "    .dataframe tbody tr th {\n",
       "        vertical-align: top;\n",
       "    }\n",
       "\n",
       "    .dataframe thead th {\n",
       "        text-align: right;\n",
       "    }\n",
       "</style>\n",
       "<table border=\"1\" class=\"dataframe\">\n",
       "  <thead>\n",
       "    <tr style=\"text-align: right;\">\n",
       "      <th></th>\n",
       "      <th>user</th>\n",
       "      <th>code</th>\n",
       "      <th>code_account</th>\n",
       "      <th>code_type</th>\n",
       "      <th>program_name</th>\n",
       "    </tr>\n",
       "  </thead>\n",
       "  <tbody>\n",
       "    <tr>\n",
       "      <th>0</th>\n",
       "      <td>0</td>\n",
       "      <td>NNNNN</td>\n",
       "      <td>N</td>\n",
       "      <td>N</td>\n",
       "      <td>N</td>\n",
       "    </tr>\n",
       "    <tr>\n",
       "      <th>1</th>\n",
       "      <td>1</td>\n",
       "      <td>NNNNN</td>\n",
       "      <td>N</td>\n",
       "      <td>N</td>\n",
       "      <td>N</td>\n",
       "    </tr>\n",
       "    <tr>\n",
       "      <th>2</th>\n",
       "      <td>2</td>\n",
       "      <td>ANPNN</td>\n",
       "      <td>A</td>\n",
       "      <td>P</td>\n",
       "      <td>Platinum</td>\n",
       "    </tr>\n",
       "    <tr>\n",
       "      <th>3</th>\n",
       "      <td>3</td>\n",
       "      <td>ANBNN</td>\n",
       "      <td>A</td>\n",
       "      <td>B</td>\n",
       "      <td>Black</td>\n",
       "    </tr>\n",
       "    <tr>\n",
       "      <th>4</th>\n",
       "      <td>4</td>\n",
       "      <td>ANPNN</td>\n",
       "      <td>A</td>\n",
       "      <td>P</td>\n",
       "      <td>Platinum</td>\n",
       "    </tr>\n",
       "  </tbody>\n",
       "</table>\n",
       "</div>"
      ],
      "text/plain": [
       "   user   code code_account code_type program_name\n",
       "0     0  NNNNN            N         N            N\n",
       "1     1  NNNNN            N         N            N\n",
       "2     2  ANPNN            A         P     Platinum\n",
       "3     3  ANBNN            A         B        Black\n",
       "4     4  ANPNN            A         P     Platinum"
      ]
     },
     "execution_count": 11,
     "metadata": {},
     "output_type": "execute_result"
    }
   ],
   "source": [
    "clean_codes = recipe.bake(codes)\n",
    "clean_codes.head()"
   ]
  },
  {
   "cell_type": "markdown",
   "metadata": {},
   "source": [
    "### How many types of accounts do they have?"
   ]
  },
  {
   "cell_type": "code",
   "execution_count": 15,
   "metadata": {},
   "outputs": [],
   "source": [
    "group_recipe = Recipe([\n",
    "    # Keep Only Accounts with Type\n",
    "    FilterStep('code_account == \"A\"'),\n",
    "    # Group by Type\n",
    "    GroupByStep('program_name'),\n",
    "    # Count the types\n",
    "    SummarizeStep({\n",
    "        'program_name_count': AggCount('code_type')\n",
    "    }),\n",
    "    # Sort by count\n",
    "    SortStep('program_name_count', ascending=False)\n",
    "])"
   ]
  },
  {
   "cell_type": "code",
   "execution_count": 16,
   "metadata": {},
   "outputs": [
    {
     "data": {
      "text/html": [
       "<div>\n",
       "<style scoped>\n",
       "    .dataframe tbody tr th:only-of-type {\n",
       "        vertical-align: middle;\n",
       "    }\n",
       "\n",
       "    .dataframe tbody tr th {\n",
       "        vertical-align: top;\n",
       "    }\n",
       "\n",
       "    .dataframe thead th {\n",
       "        text-align: right;\n",
       "    }\n",
       "</style>\n",
       "<table border=\"1\" class=\"dataframe\">\n",
       "  <thead>\n",
       "    <tr style=\"text-align: right;\">\n",
       "      <th></th>\n",
       "      <th>program_name</th>\n",
       "      <th>program_name_count</th>\n",
       "    </tr>\n",
       "  </thead>\n",
       "  <tbody>\n",
       "    <tr>\n",
       "      <th>0</th>\n",
       "      <td>Gold</td>\n",
       "      <td>6</td>\n",
       "    </tr>\n",
       "    <tr>\n",
       "      <th>1</th>\n",
       "      <td>Platinum</td>\n",
       "      <td>4</td>\n",
       "    </tr>\n",
       "    <tr>\n",
       "      <th>2</th>\n",
       "      <td>Black</td>\n",
       "      <td>3</td>\n",
       "    </tr>\n",
       "  </tbody>\n",
       "</table>\n",
       "</div>"
      ],
      "text/plain": [
       "  program_name  program_name_count\n",
       "0         Gold                   6\n",
       "1     Platinum                   4\n",
       "2        Black                   3"
      ]
     },
     "execution_count": 16,
     "metadata": {},
     "output_type": "execute_result"
    }
   ],
   "source": [
    "group_codes = group_recipe.bake(clean_codes)\n",
    "group_codes.head(n=15)"
   ]
  }
 ],
 "metadata": {
  "kernelspec": {
   "display_name": "Python 3",
   "language": "python",
   "name": "python3"
  },
  "language_info": {
   "codemirror_mode": {
    "name": "ipython",
    "version": 3
   },
   "file_extension": ".py",
   "mimetype": "text/x-python",
   "name": "python",
   "nbconvert_exporter": "python",
   "pygments_lexer": "ipython3",
   "version": "3.7.7"
  }
 },
 "nbformat": 4,
 "nbformat_minor": 4
}
